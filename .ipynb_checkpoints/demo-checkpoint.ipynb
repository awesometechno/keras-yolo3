{
 "cells": [
  {
   "cell_type": "code",
   "execution_count": null,
   "metadata": {},
   "outputs": [],
   "source": [
    "import os\n",
    "os.environ['CUDA_VISIBLE_DEVICES'] = \"1\""
   ]
  },
  {
   "cell_type": "code",
   "execution_count": null,
   "metadata": {},
   "outputs": [],
   "source": [
    "%load_ext autoreload"
   ]
  },
  {
   "cell_type": "code",
   "execution_count": null,
   "metadata": {},
   "outputs": [],
   "source": [
    "import os\n",
    "import argparse\n",
    "import json\n",
    "import cv2\n",
    "from keras.models import load_model\n",
    "from tqdm import tqdm\n",
    "import numpy as np\n",
    "\n",
    "from matplotlib import pyplot as plt"
   ]
  },
  {
   "cell_type": "code",
   "execution_count": null,
   "metadata": {},
   "outputs": [],
   "source": [
    "%autoreload 2"
   ]
  },
  {
   "cell_type": "code",
   "execution_count": null,
   "metadata": {},
   "outputs": [],
   "source": [
    "from utils.utils import get_yolo_boxes\n",
    "from utils.bbox import draw_boxes"
   ]
  },
  {
   "cell_type": "code",
   "execution_count": null,
   "metadata": {},
   "outputs": [],
   "source": [
    "config_path  = \"config.json\"\n",
    "input_path = \"C:/Users/shaoa/conda_env_tensorflow/keras-yolo3-master/val_data_yolov3/\"\n",
    "#input_path = \"D:/RRC2019_ReCTS/ReCTS_test_part1/ReCTS_test_part1/Task2/img/\"\n",
    "input_path = \"D:/RRC2019_ReCTS/ReCTS_test_part1/ReCTS_test_part1/Task3_and_Task4/img/\""
   ]
  },
  {
   "cell_type": "code",
   "execution_count": null,
   "metadata": {},
   "outputs": [],
   "source": [
    "with open(config_path) as config_buffer:    \n",
    "    config = json.load(config_buffer)\n",
    "\n",
    "###############################\n",
    "#   Set some parameter\n",
    "###############################       \n",
    "net_h, net_w = 736, 736 # a multiple of 32, the smaller the faster\n",
    "obj_thresh, nms_thresh = 0.3, 0.2"
   ]
  },
  {
   "cell_type": "code",
   "execution_count": null,
   "metadata": {},
   "outputs": [],
   "source": [
    "clahe = cv2.createCLAHE(\n",
    "    clipLimit=2.0, \n",
    "    tileGridSize=(4,4))"
   ]
  },
  {
   "cell_type": "code",
   "execution_count": null,
   "metadata": {},
   "outputs": [],
   "source": [
    "def get_direction(im):\n",
    "    h, w, _ = im.shape\n",
    "    if w / h >= 1:\n",
    "        return 'horizontal'\n",
    "    else:\n",
    "        return \"vertical\"\n",
    "\n",
    "def pad_image(im, size=736):\n",
    "    h, w, _ = im.shape\n",
    "    if (h > size) or (w > size):\n",
    "        size = np.maximum(h, w)\n",
    "    pad_h = np.maximum(size-h, 0) // 2\n",
    "    pad_w = np.maximum(size-w, 0) // 2\n",
    "    \n",
    "    return np.pad(im, ((pad_h,pad_h), (pad_w,pad_w), (0,0)), 'constant'), pad_h, pad_w\n",
    "\n",
    "def get_task2_masked_im(fn, use_perspective_transform=False):\n",
    "    root_path = \"D:/RRC2019_ReCTS/ReCTS_test_part1/ReCTS_test_part1/Task2/coordinates\"\n",
    "    im = cv2.imread(f\"D:/RRC2019_ReCTS/ReCTS_test_part1/ReCTS_test_part1/Task2/img/{fn}.jpg\")\n",
    "    with open(f\"{root_path}/{fn}.txt\") as f:\n",
    "        lines = f.readlines()\n",
    "        assert len(lines) == 1, lines\n",
    "        x0, y0, x1, y1,x2, y2, x3, y3 = lines[0].split(\",\")\n",
    "        \n",
    "        masked_im = np.zeros_like(im)\n",
    "        masked_im = cv2.fillPoly(\n",
    "            masked_im, \n",
    "            [np.array([[x0,y0],[x1,y1],[x2,y2],[x3,y3]]).astype(np.int32).reshape(4,-1,2)],\n",
    "            (255,255,255))\n",
    "        masked_im = masked_im.astype(np.float32) / 255 * im\n",
    "    masked_im = masked_im.astype(np.uint8)\n",
    "    \n",
    "    if use_perspective_transform:\n",
    "        h, w, _ = im.shape\n",
    "        src = np.array([[x0,y0], [x1,y1], [x2,y2], [x3,y3]], dtype=np.float32)\n",
    "        dst = np.array([[0,0], [w-1,0], [w-1,h-1], [0,h-1]], dtype=np.float32)\n",
    "        M = cv2.getPerspectiveTransform(src, dst)\n",
    "        masked_im = cv2.warpPerspective(masked_im, M, (w, h))\n",
    "    \n",
    "    return masked_im    \n",
    "\n",
    "def get_thresholded_boxes(boxes, thres=obj_thresh):\n",
    "    return [box for box in boxes if box.score >= obj_thresh]\n",
    "\n",
    "def remove_small_boxes(boxes, thres=10*10):\n",
    "    return [box for box in boxes if (box.xmax-box.xmin)*(box.ymax-box.ymin) >= thres]\n",
    "\n",
    "def convert_boxes_to_ndarray_coords(boxes):\n",
    "    new_boxes = [np.array([box.xmin,box.ymin,box.xmax,box.ymax, (box.xmin+box.xmax)/2, (box.ymin+box.ymax)/2]) for box in boxes]\n",
    "    new_boxes = np.array(new_boxes)\n",
    "    return new_boxes\n",
    "    \n",
    "def get_ordered_boxes(boxes, direction=\"horizontal\"):    \n",
    "    if direction == \"horizontal\":\n",
    "        order_axis = -2\n",
    "    elif direction == \"vertical\":\n",
    "        order_axis = -1\n",
    "    else:\n",
    "        raise ValueError(f\"Received an unknown direction: {direction}.\")\n",
    "    ordered_boxes = boxes[np.argsort(boxes[:, order_axis]), :-2]\n",
    "    ordered_boxes = ordered_boxes.astype(np.int32)\n",
    "    return ordered_boxes\n",
    "\n",
    "def crop_and_save_characters(boxes, im, pad_h, pad_w, fn, max_h, max_w, root_path):\n",
    "    \"\"\"\n",
    "    boxes are assumed to be ordered so that the saved images is correctly named.\n",
    "    \"\"\"\n",
    "    #root_path = \"D:/RRC2019_ReCTS/submissions/Task2/intermediate_data2\"\n",
    "    raw_fn = Path(fn).stem\n",
    "    Path(f\"{root_path}/{raw_fn}/img/\").mkdir(parents=True, exist_ok=True)\n",
    "    Path(f\"{root_path}/{raw_fn}/coord/\").mkdir(parents=True, exist_ok=True)\n",
    "    for i, box in enumerate(boxes):\n",
    "        x0, y0, x1, y1 = box[0]-pad_w, box[1]-pad_h, box[2]-pad_w, box[3]-pad_h\n",
    "        x0, y0, x1, y1 = np.clip(x0, 0, max_w), np.clip(y0, 0, max_h), np.clip(x1, 0, max_w), np.clip(y1, 0, max_h)\n",
    "        char = im[y0:y1, x0:x1, :]\n",
    "        cv2.imwrite(f\"{root_path}/{raw_fn}/img/{raw_fn}_char_{str(i)}.jpg\", char.copy())\n",
    "        np.save(f\"{root_path}/{raw_fn}/coord/{raw_fn}_char_{str(i)}.npy\", np.array([x0, y0, x1, y1]))\n",
    "        \n",
    "def clahe_rgb(img, l_component_only=False):\n",
    "    img_eq = np.concatenate([np.expand_dims(clahe.apply(img[...,i:i+1]), -1) for i in range(3)], axis=-1)\n",
    "    return img_eq"
   ]
  },
  {
   "cell_type": "code",
   "execution_count": null,
   "metadata": {},
   "outputs": [],
   "source": [
    "###############################\n",
    "#   Load the model\n",
    "###############################\n",
    "infer_model = load_model(config['train']['saved_weights_name'])   "
   ]
  },
  {
   "cell_type": "code",
   "execution_count": null,
   "metadata": {},
   "outputs": [],
   "source": [
    "###############################\n",
    "#   Predict bounding boxes \n",
    "###############################\n",
    "# do detection on an image or a set of images\n",
    "image_paths = []\n",
    "\n",
    "if os.path.isdir(input_path): \n",
    "    for inp_file in os.listdir(input_path):\n",
    "        image_paths += [input_path + inp_file]\n",
    "else:\n",
    "    image_paths += [input_path]\n",
    "\n",
    "image_paths = [inp_file for inp_file in image_paths if (inp_file[-4:] in ['.jpg', '.png', 'JPEG'])]"
   ]
  },
  {
   "cell_type": "code",
   "execution_count": null,
   "metadata": {},
   "outputs": [],
   "source": [
    "image_paths[:5]"
   ]
  },
  {
   "cell_type": "code",
   "execution_count": null,
   "metadata": {},
   "outputs": [],
   "source": [
    "import time\n",
    "from pathlib import Path"
   ]
  },
  {
   "cell_type": "code",
   "execution_count": 14,
   "metadata": {
    "scrolled": false
   },
   "outputs": [
    {
     "name": "stdout",
     "output_type": "stream",
     "text": [
      "rand_idx 2168\n",
      "D:/RRC2019_ReCTS/ReCTS_test_part1/ReCTS_test_part1/Task2/img/test_ReCTS_task2_002169.jpg\n"
     ]
    },
    {
     "data": {
      "image/png": "[encoded data removed]",
      "text/plain": [
       "<Figure size 864x864 with 1 Axes>"
      ]
     },
     "metadata": {
      "needs_background": "light"
     },
     "output_type": "display_data"
    }
   ],
   "source": [
    "# the main loop\n",
    "rand_idx = np.random.randint(len(image_paths))\n",
    "print('rand_idx', rand_idx)\n",
    "\n",
    "for image_path in image_paths[rand_idx:rand_idx+1]:\n",
    "    #image_path = \"D:/RRC2019_ReCTS/ReCTS_test_part1/ReCTS_test_part1/Task3_and_Task4/img/test_ReCTS_task3_and_task_4_000160.jpg\"\n",
    "    #image_path = \"D:/RRC2019_ReCTS/ReCTS_test_part1/ReCTS_test_part1/Task2/img/test_ReCTS_task2_003485.jpg\"\n",
    "    #image_path = \"D:/RRC2019_ReCTS/ReCTS_test_part1/ReCTS_test_part1/Task2/img/test_ReCTS_task2_000114.jpg\"\n",
    "    image = cv2.imread(image_path)\n",
    "    #image = get_task2_masked_im(Path(image_path).stem, False)\n",
    "    #image = clahe_rgb(image)\n",
    "    assert not image is None\n",
    "    direction = get_direction(image)\n",
    "    image, ph, pw = pad_image(image) # pad image to (736,736) to prevent outlier zoomed-in text lines\n",
    "    raw_image = image.copy()\n",
    "    print(image_path)\n",
    "\n",
    "    # predict the bounding boxes\n",
    "    boxes = get_yolo_boxes(infer_model, [image], net_h, net_w, config['model']['anchors'], obj_thresh, nms_thresh)[0]\n",
    "    # draw bounding boxes on the image using labels\n",
    "    draw_boxes(image, boxes, config['model']['labels'], obj_thresh) \n",
    "\n",
    "    # write the image with bounding boxes to file\n",
    "    #cv2.imwrite(output_path + image_path.split('/')[-1], np.uint8(image))\n",
    "    plt.figure(figsize=(12,12))\n",
    "    #plt.subplot(2,1,1)\n",
    "    #plt.imshow(raw_image[..., ::-1])\n",
    "    #plt.subplot(2,1,2)\n",
    "    plt.imshow(np.uint8(image)[..., ::-1])"
   ]
  },
  {
   "cell_type": "code",
   "execution_count": 37,
   "metadata": {},
   "outputs": [
    {
     "name": "stdout",
     "output_type": "stream",
     "text": [
      "> <ipython-input-35-2ea3e9b84600>(37)get_task2_masked_im()\n",
      "     35         src = np.array([[x0,y0], [x1,y1], [x2,y2], [x3,y3]])\n",
      "     36         dst = np.array([[0,0], [w-1,0], [w-1,h-1], [0,h-1]])\n",
      "---> 37         M = cv2.getPerspectiveTransform(src, dst)\n",
      "     38         masked_im = cv2.warpPerspective(masked_im, M, (w, h))\n",
      "     39 \n",
      "\n",
      "ipdb> src\n",
      "array([['3', '175'],\n",
      "       ['671', '1'],\n",
      "       ['681', '252'],\n",
      "       ['1', '331']], dtype='<U3')\n",
      "ipdb> src.shape\n",
      "(4, 2)\n",
      "ipdb> q\n"
     ]
    }
   ],
   "source": [
    "%debug"
   ]
  },
  {
   "cell_type": "markdown",
   "metadata": {},
   "source": [
    "# Predict on task 2 test data"
   ]
  },
  {
   "cell_type": "code",
   "execution_count": 15,
   "metadata": {
    "scrolled": true
   },
   "outputs": [
    {
     "name": "stderr",
     "output_type": "stream",
     "text": [
      "  1%|▋                                                                              | 96/10789 [00:14<28:23,  6.28it/s]"
     ]
    },
    {
     "name": "stdout",
     "output_type": "stream",
     "text": [
      "No character is found in test_ReCTS_task2_000097.\n"
     ]
    },
    {
     "name": "stderr",
     "output_type": "stream",
     "text": [
      "  2%|█▍                                                                            | 202/10789 [00:32<28:17,  6.24it/s]"
     ]
    },
    {
     "name": "stdout",
     "output_type": "stream",
     "text": [
      "No character is found in test_ReCTS_task2_000203.\n"
     ]
    },
    {
     "name": "stderr",
     "output_type": "stream",
     "text": [
      "  5%|███▋                                                                          | 503/10789 [01:28<32:13,  5.32it/s]"
     ]
    },
    {
     "name": "stdout",
     "output_type": "stream",
     "text": [
      "No character is found in test_ReCTS_task2_000504.\n"
     ]
    },
    {
     "name": "stderr",
     "output_type": "stream",
     "text": [
      " 11%|████████▊                                                                    | 1228/10789 [03:59<32:52,  4.85it/s]"
     ]
    },
    {
     "name": "stdout",
     "output_type": "stream",
     "text": [
      "No character is found in test_ReCTS_task2_001229.\n"
     ]
    },
    {
     "name": "stderr",
     "output_type": "stream",
     "text": [
      " 13%|█████████▋                                                                   | 1362/10789 [04:28<31:41,  4.96it/s]"
     ]
    },
    {
     "name": "stdout",
     "output_type": "stream",
     "text": [
      "No character is found in test_ReCTS_task2_001363.\n"
     ]
    },
    {
     "name": "stderr",
     "output_type": "stream",
     "text": [
      " 15%|███████████▏                                                                 | 1573/10789 [05:12<26:21,  5.83it/s]"
     ]
    },
    {
     "name": "stdout",
     "output_type": "stream",
     "text": [
      "No character is found in test_ReCTS_task2_001574.\n"
     ]
    },
    {
     "name": "stderr",
     "output_type": "stream",
     "text": [
      " 15%|███████████▊                                                                 | 1653/10789 [05:28<28:41,  5.31it/s]"
     ]
    },
    {
     "name": "stdout",
     "output_type": "stream",
     "text": [
      "No character is found in test_ReCTS_task2_001654.\n"
     ]
    },
    {
     "name": "stderr",
     "output_type": "stream",
     "text": [
      " 16%|████████████▍                                                                | 1747/10789 [05:46<31:42,  4.75it/s]"
     ]
    },
    {
     "name": "stdout",
     "output_type": "stream",
     "text": [
      "No character is found in test_ReCTS_task2_001748.\n"
     ]
    },
    {
     "name": "stderr",
     "output_type": "stream",
     "text": [
      " 18%|█████████████▋                                                               | 1924/10789 [06:21<50:38,  2.92it/s]"
     ]
    },
    {
     "name": "stdout",
     "output_type": "stream",
     "text": [
      "No character is found in test_ReCTS_task2_001925.\n"
     ]
    },
    {
     "name": "stderr",
     "output_type": "stream",
     "text": [
      " 19%|██████████████▌                                                              | 2041/10789 [06:48<32:05,  4.54it/s]"
     ]
    },
    {
     "name": "stdout",
     "output_type": "stream",
     "text": [
      "No character is found in test_ReCTS_task2_002042.\n"
     ]
    },
    {
     "name": "stderr",
     "output_type": "stream",
     "text": [
      " 19%|██████████████▋                                                              | 2063/10789 [06:53<31:03,  4.68it/s]"
     ]
    },
    {
     "name": "stdout",
     "output_type": "stream",
     "text": [
      "No character is found in test_ReCTS_task2_002064.\n"
     ]
    },
    {
     "name": "stderr",
     "output_type": "stream",
     "text": [
      " 19%|██████████████▉                                                              | 2091/10789 [06:59<39:37,  3.66it/s]"
     ]
    },
    {
     "name": "stdout",
     "output_type": "stream",
     "text": [
      "No character is found in test_ReCTS_task2_002092.\n"
     ]
    },
    {
     "name": "stderr",
     "output_type": "stream",
     "text": [
      " 20%|███████████████▋                                                             | 2206/10789 [07:20<27:54,  5.13it/s]"
     ]
    },
    {
     "name": "stdout",
     "output_type": "stream",
     "text": [
      "No character is found in test_ReCTS_task2_002207.\n"
     ]
    },
    {
     "name": "stderr",
     "output_type": "stream",
     "text": [
      " 28%|█████████████████████▏                                                       | 2976/10789 [10:08<26:32,  4.91it/s]"
     ]
    },
    {
     "name": "stdout",
     "output_type": "stream",
     "text": [
      "No character is found in test_ReCTS_task2_002977.\n"
     ]
    },
    {
     "name": "stderr",
     "output_type": "stream",
     "text": [
      " 28%|█████████████████████▋                                                       | 3038/10789 [10:21<23:45,  5.44it/s]"
     ]
    },
    {
     "name": "stdout",
     "output_type": "stream",
     "text": [
      "No character is found in test_ReCTS_task2_003039.\n"
     ]
    },
    {
     "name": "stderr",
     "output_type": "stream",
     "text": [
      " 29%|██████████████████████▌                                                      | 3165/10789 [10:47<45:50,  2.77it/s]"
     ]
    },
    {
     "name": "stdout",
     "output_type": "stream",
     "text": [
      "No character is found in test_ReCTS_task2_003166.\n"
     ]
    },
    {
     "name": "stderr",
     "output_type": "stream",
     "text": [
      " 31%|███████████████████████▊                                                     | 3334/10789 [11:21<23:39,  5.25it/s]"
     ]
    },
    {
     "name": "stdout",
     "output_type": "stream",
     "text": [
      "No character is found in test_ReCTS_task2_003335.\n"
     ]
    },
    {
     "name": "stderr",
     "output_type": "stream",
     "text": [
      " 33%|█████████████████████████▎                                                   | 3554/10789 [12:10<23:50,  5.06it/s]"
     ]
    },
    {
     "name": "stdout",
     "output_type": "stream",
     "text": [
      "No character is found in test_ReCTS_task2_003555.\n"
     ]
    },
    {
     "name": "stderr",
     "output_type": "stream",
     "text": [
      " 39%|█████████████████████████████▊                                               | 4178/10789 [14:13<20:21,  5.41it/s]"
     ]
    },
    {
     "name": "stdout",
     "output_type": "stream",
     "text": [
      "No character is found in test_ReCTS_task2_004179.\n"
     ]
    },
    {
     "name": "stderr",
     "output_type": "stream",
     "text": [
      " 40%|██████████████████████████████▍                                              | 4267/10789 [14:30<20:06,  5.41it/s]"
     ]
    },
    {
     "name": "stdout",
     "output_type": "stream",
     "text": [
      "No character is found in test_ReCTS_task2_004268.\n"
     ]
    },
    {
     "name": "stderr",
     "output_type": "stream",
     "text": [
      " 44%|██████████████████████████████████▏                                          | 4796/10789 [16:13<33:56,  2.94it/s]"
     ]
    },
    {
     "name": "stdout",
     "output_type": "stream",
     "text": [
      "No character is found in test_ReCTS_task2_004797.\n"
     ]
    },
    {
     "name": "stderr",
     "output_type": "stream",
     "text": [
      " 46%|███████████████████████████████████▏                                         | 4933/10789 [16:41<20:13,  4.82it/s]"
     ]
    },
    {
     "name": "stdout",
     "output_type": "stream",
     "text": [
      "No character is found in test_ReCTS_task2_004934.\n"
     ]
    },
    {
     "name": "stderr",
     "output_type": "stream",
     "text": [
      " 53%|█████████████████████████████████████████▏                                   | 5768/10789 [19:21<15:07,  5.53it/s]"
     ]
    },
    {
     "name": "stdout",
     "output_type": "stream",
     "text": [
      "No character is found in test_ReCTS_task2_005769.\n"
     ]
    },
    {
     "name": "stderr",
     "output_type": "stream",
     "text": [
      " 60%|██████████████████████████████████████████████▎                              | 6495/10789 [21:45<12:28,  5.74it/s]"
     ]
    },
    {
     "name": "stdout",
     "output_type": "stream",
     "text": [
      "No character is found in test_ReCTS_task2_006496.\n"
     ]
    },
    {
     "name": "stderr",
     "output_type": "stream",
     "text": [
      " 61%|██████████████████████████████████████████████▋                              | 6538/10789 [21:54<13:30,  5.25it/s]"
     ]
    },
    {
     "name": "stdout",
     "output_type": "stream",
     "text": [
      "No character is found in test_ReCTS_task2_006539.\n"
     ]
    },
    {
     "name": "stderr",
     "output_type": "stream",
     "text": [
      " 62%|███████████████████████████████████████████████▋                             | 6682/10789 [22:22<12:28,  5.49it/s]"
     ]
    },
    {
     "name": "stdout",
     "output_type": "stream",
     "text": [
      "No character is found in test_ReCTS_task2_006683.\n"
     ]
    },
    {
     "name": "stderr",
     "output_type": "stream",
     "text": [
      " 65%|█████████████████████████████████████████████████▉                           | 6998/10789 [23:20<12:10,  5.19it/s]"
     ]
    },
    {
     "name": "stdout",
     "output_type": "stream",
     "text": [
      "No character is found in test_ReCTS_task2_006999.\n"
     ]
    },
    {
     "name": "stderr",
     "output_type": "stream",
     "text": [
      " 66%|██████████████████████████████████████████████████▌                          | 7076/10789 [23:36<10:31,  5.88it/s]"
     ]
    },
    {
     "name": "stdout",
     "output_type": "stream",
     "text": [
      "No character is found in test_ReCTS_task2_007077.\n"
     ]
    },
    {
     "name": "stderr",
     "output_type": "stream",
     "text": [
      " 67%|███████████████████████████████████████████████████▊                         | 7252/10789 [24:09<10:51,  5.43it/s]"
     ]
    },
    {
     "name": "stdout",
     "output_type": "stream",
     "text": [
      "No character is found in test_ReCTS_task2_007253.\n"
     ]
    },
    {
     "name": "stderr",
     "output_type": "stream",
     "text": [
      " 67%|███████████████████████████████████████████████████▉                         | 7269/10789 [24:12<11:09,  5.26it/s]"
     ]
    },
    {
     "name": "stdout",
     "output_type": "stream",
     "text": [
      "No character is found in test_ReCTS_task2_007270.\n"
     ]
    },
    {
     "name": "stderr",
     "output_type": "stream",
     "text": [
      " 67%|███████████████████████████████████████████████████▉                         | 7276/10789 [24:14<11:17,  5.19it/s]"
     ]
    },
    {
     "name": "stdout",
     "output_type": "stream",
     "text": [
      "No character is found in test_ReCTS_task2_007277.\n"
     ]
    },
    {
     "name": "stderr",
     "output_type": "stream",
     "text": [
      " 68%|████████████████████████████████████████████████████▍                        | 7352/10789 [24:28<10:03,  5.69it/s]"
     ]
    },
    {
     "name": "stdout",
     "output_type": "stream",
     "text": [
      "No character is found in test_ReCTS_task2_007353.\n"
     ]
    },
    {
     "name": "stderr",
     "output_type": "stream",
     "text": [
      " 70%|█████████████████████████████████████████████████████▊                       | 7543/10789 [25:05<16:05,  3.36it/s]"
     ]
    },
    {
     "name": "stdout",
     "output_type": "stream",
     "text": [
      "No character is found in test_ReCTS_task2_007544.\n"
     ]
    },
    {
     "name": "stderr",
     "output_type": "stream",
     "text": [
      " 70%|█████████████████████████████████████████████████████▉                       | 7554/10789 [25:07<09:49,  5.48it/s]"
     ]
    },
    {
     "name": "stdout",
     "output_type": "stream",
     "text": [
      "No character is found in test_ReCTS_task2_007555.\n"
     ]
    },
    {
     "name": "stderr",
     "output_type": "stream",
     "text": [
      " 75%|█████████████████████████████████████████████████████████▋                   | 8086/10789 [26:47<08:28,  5.31it/s]"
     ]
    },
    {
     "name": "stdout",
     "output_type": "stream",
     "text": [
      "No character is found in test_ReCTS_task2_008087.\n"
     ]
    },
    {
     "name": "stderr",
     "output_type": "stream",
     "text": [
      " 77%|███████████████████████████████████████████████████████████▌                 | 8337/10789 [27:34<07:18,  5.59it/s]"
     ]
    },
    {
     "name": "stdout",
     "output_type": "stream",
     "text": [
      "No character is found in test_ReCTS_task2_008338.\n"
     ]
    },
    {
     "name": "stderr",
     "output_type": "stream",
     "text": [
      " 78%|███████████████████████████████████████████████████████████▉                 | 8402/10789 [27:45<06:55,  5.75it/s]"
     ]
    },
    {
     "name": "stdout",
     "output_type": "stream",
     "text": [
      "No character is found in test_ReCTS_task2_008403.\n"
     ]
    },
    {
     "name": "stderr",
     "output_type": "stream",
     "text": [
      " 82%|███████████████████████████████████████████████████████████████▍             | 8897/10789 [29:18<05:18,  5.93it/s]"
     ]
    },
    {
     "name": "stdout",
     "output_type": "stream",
     "text": [
      "No character is found in test_ReCTS_task2_008898.\n"
     ]
    },
    {
     "name": "stderr",
     "output_type": "stream",
     "text": [
      " 86%|█████████████████████████████████████████████████████████████████▉           | 9234/10789 [30:20<04:50,  5.36it/s]"
     ]
    },
    {
     "name": "stdout",
     "output_type": "stream",
     "text": [
      "No character is found in test_ReCTS_task2_009235.\n"
     ]
    },
    {
     "name": "stderr",
     "output_type": "stream",
     "text": [
      " 89%|████████████████████████████████████████████████████████████████████▎        | 9567/10789 [31:22<04:18,  4.72it/s]"
     ]
    },
    {
     "name": "stdout",
     "output_type": "stream",
     "text": [
      "No character is found in test_ReCTS_task2_009568.\n"
     ]
    },
    {
     "name": "stderr",
     "output_type": "stream",
     "text": [
      " 89%|████████████████████████████████████████████████████████████████████▎        | 9577/10789 [31:24<03:45,  5.37it/s]"
     ]
    },
    {
     "name": "stdout",
     "output_type": "stream",
     "text": [
      "No character is found in test_ReCTS_task2_009578.\n"
     ]
    },
    {
     "name": "stderr",
     "output_type": "stream",
     "text": [
      " 90%|████████████████████████████████████████████████████████████████████▉        | 9665/10789 [31:40<03:38,  5.13it/s]"
     ]
    },
    {
     "name": "stdout",
     "output_type": "stream",
     "text": [
      "No character is found in test_ReCTS_task2_009666.\n"
     ]
    },
    {
     "name": "stderr",
     "output_type": "stream",
     "text": [
      " 92%|██████████████████████████████████████████████████████████████████████▋      | 9911/10789 [32:26<02:39,  5.50it/s]"
     ]
    },
    {
     "name": "stdout",
     "output_type": "stream",
     "text": [
      "No character is found in test_ReCTS_task2_009912.\n"
     ]
    },
    {
     "name": "stderr",
     "output_type": "stream",
     "text": [
      " 94%|███████████████████████████████████████████████████████████████████████▋    | 10172/10789 [33:15<01:53,  5.44it/s]"
     ]
    },
    {
     "name": "stdout",
     "output_type": "stream",
     "text": [
      "No character is found in test_ReCTS_task2_010173.\n"
     ]
    },
    {
     "name": "stderr",
     "output_type": "stream",
     "text": [
      " 97%|█████████████████████████████████████████████████████████████████████████▉  | 10501/10789 [34:16<00:54,  5.24it/s]"
     ]
    },
    {
     "name": "stdout",
     "output_type": "stream",
     "text": [
      "No character is found in test_ReCTS_task2_010502.\n"
     ]
    },
    {
     "name": "stderr",
     "output_type": "stream",
     "text": [
      "100%|███████████████████████████████████████████████████████████████████████████▋| 10747/10789 [35:01<00:07,  5.40it/s]"
     ]
    },
    {
     "name": "stdout",
     "output_type": "stream",
     "text": [
      "No character is found in test_ReCTS_task2_010748.\n"
     ]
    },
    {
     "name": "stderr",
     "output_type": "stream",
     "text": [
      "100%|████████████████████████████████████████████████████████████████████████████| 10789/10789 [35:09<00:00,  5.57it/s]\n"
     ]
    }
   ],
   "source": [
    "for image_path in tqdm(image_paths):\n",
    "    raw_fn = Path(image_path).stem\n",
    "    image = get_task2_masked_im(raw_fn)\n",
    "    orig_image = image.copy()\n",
    "    orig_h, orig_w, _ = orig_image.shape\n",
    "    assert not image is None\n",
    "    direction = get_direction(image)\n",
    "    image, ph, pw = pad_image(image) # pad image to (736,736) to prevent outlier zoomed-in text lines\n",
    "    #print(image_path)\n",
    "    root_path = \"D:/RRC2019_ReCTS/submissions/Task2/intermediate_data2\"\n",
    "\n",
    "    # predict the bounding boxes\n",
    "    boxes = get_yolo_boxes(infer_model, [image], net_h, net_w, config['model']['anchors'], obj_thresh, nms_thresh)[0]\n",
    "    # draw bounding boxes on the image using labels\n",
    "    draw_boxes(image, boxes, config['model']['labels'], obj_thresh) \n",
    "    \n",
    "    boxes = get_thresholded_boxes(boxes, obj_thresh)\n",
    "    boxes = remove_small_boxes(boxes, orig_h/8*orig_w/8)\n",
    "    if len(boxes) == 0:\n",
    "        print(f\"No character is detected in {raw_fn}.\")\n",
    "        Path(f\"{root_path}/{raw_fn}/img/\").mkdir(parents=True, exist_ok=True)\n",
    "        Path(f\"{root_path}/{raw_fn}/coord/\").mkdir(parents=True, exist_ok=True)\n",
    "        cv2.imwrite(f\"{root_path}/{raw_fn}/img/{raw_fn}_char_0.jpg\", orig_image)\n",
    "        np.save(f\"{root_path}/{raw_fn}/coord/{raw_fn}_char_0.npy\", np.array([0, 0, orig_w, orig_h]))\n",
    "        continue\n",
    "    boxes = convert_boxes_to_ndarray_coords(boxes)\n",
    "    boxes = get_ordered_boxes(boxes, direction)\n",
    "    crop_and_save_characters(boxes, orig_image, ph, pw, raw_fn, orig_h, orig_w, root_path)"
   ]
  },
  {
   "cell_type": "code",
   "execution_count": 16,
   "metadata": {},
   "outputs": [],
   "source": [
    "fns_no_char_detected = [\"test_ReCTS_task2_000097\", \"test_ReCTS_task2_000203\", \"test_ReCTS_task2_000504\", \"test_ReCTS_task2_001229\", \"test_ReCTS_task2_001363\", \"test_ReCTS_task2_001574\", \"test_ReCTS_task2_001654\", \"test_ReCTS_task2_001748\", \"test_ReCTS_task2_001925\", \"test_ReCTS_task2_002042\", \"test_ReCTS_task2_002064\", \"test_ReCTS_task2_002092\", \"test_ReCTS_task2_002207\", \"test_ReCTS_task2_002977\", \"test_ReCTS_task2_003039\", \"test_ReCTS_task2_003166\", \"test_ReCTS_task2_003335\", \"test_ReCTS_task2_003555\", \"test_ReCTS_task2_004179\", \"test_ReCTS_task2_004268\", \"test_ReCTS_task2_004797\", \"test_ReCTS_task2_004934\", \"test_ReCTS_task2_005769\", \"test_ReCTS_task2_006496\", \"test_ReCTS_task2_006539\", \"test_ReCTS_task2_006683\", \"test_ReCTS_task2_006999\", \"test_ReCTS_task2_007077\", \"test_ReCTS_task2_007253\", \"test_ReCTS_task2_007270\", \"test_ReCTS_task2_007277\", \"test_ReCTS_task2_007353\", \"test_ReCTS_task2_007544\", \"test_ReCTS_task2_007555\", \"test_ReCTS_task2_008087\", \"test_ReCTS_task2_008338\", \"test_ReCTS_task2_008403\", \"test_ReCTS_task2_008898\", \"test_ReCTS_task2_008898\", \"test_ReCTS_task2_009235\", \"test_ReCTS_task2_009568\", \"test_ReCTS_task2_009578\", \"test_ReCTS_task2_009666\", \"test_ReCTS_task2_009912\", \"test_ReCTS_task2_010173\", \"test_ReCTS_task2_010502\", \"test_ReCTS_task2_010748\",]"
   ]
  },
  {
   "cell_type": "code",
   "execution_count": 19,
   "metadata": {},
   "outputs": [
    {
     "name": "stderr",
     "output_type": "stream",
     "text": [
      "\r",
      "  0%|                                                                                           | 0/47 [00:00<?, ?it/s]"
     ]
    },
    {
     "name": "stdout",
     "output_type": "stream",
     "text": [
      "No character is detected in test_ReCTS_task2_000097\n"
     ]
    },
    {
     "name": "stderr",
     "output_type": "stream",
     "text": [
      " 13%|██████████▌                                                                        | 6/47 [00:01<00:14,  2.92it/s]"
     ]
    },
    {
     "name": "stdout",
     "output_type": "stream",
     "text": [
      "No character is detected in test_ReCTS_task2_001654\n"
     ]
    },
    {
     "name": "stderr",
     "output_type": "stream",
     "text": [
      " 17%|██████████████▏                                                                    | 8/47 [00:02<00:11,  3.32it/s]"
     ]
    },
    {
     "name": "stdout",
     "output_type": "stream",
     "text": [
      "No character is detected in test_ReCTS_task2_001925\n"
     ]
    },
    {
     "name": "stderr",
     "output_type": "stream",
     "text": [
      "\r",
      " 19%|███████████████▉                                                                   | 9/47 [00:02<00:12,  2.97it/s]"
     ]
    },
    {
     "name": "stdout",
     "output_type": "stream",
     "text": [
      "No character is detected in test_ReCTS_task2_002042\n"
     ]
    },
    {
     "name": "stderr",
     "output_type": "stream",
     "text": [
      " 26%|████████████████████▉                                                             | 12/47 [00:03<00:09,  3.57it/s]"
     ]
    },
    {
     "name": "stdout",
     "output_type": "stream",
     "text": [
      "No character is detected in test_ReCTS_task2_002207\n"
     ]
    },
    {
     "name": "stderr",
     "output_type": "stream",
     "text": [
      " 36%|█████████████████████████████▋                                                    | 17/47 [00:05<00:07,  4.12it/s]"
     ]
    },
    {
     "name": "stdout",
     "output_type": "stream",
     "text": [
      "No character is detected in test_ReCTS_task2_003555\n"
     ]
    },
    {
     "name": "stderr",
     "output_type": "stream",
     "text": [
      "\r",
      " 38%|███████████████████████████████▍                                                  | 18/47 [00:05<00:08,  3.39it/s]"
     ]
    },
    {
     "name": "stdout",
     "output_type": "stream",
     "text": [
      "No character is detected in test_ReCTS_task2_004179\n"
     ]
    },
    {
     "name": "stderr",
     "output_type": "stream",
     "text": [
      " 49%|████████████████████████████████████████▏                                         | 23/47 [00:07<00:07,  3.42it/s]"
     ]
    },
    {
     "name": "stdout",
     "output_type": "stream",
     "text": [
      "No character is detected in test_ReCTS_task2_006496\n"
     ]
    },
    {
     "name": "stderr",
     "output_type": "stream",
     "text": [
      " 55%|█████████████████████████████████████████████▎                                    | 26/47 [00:07<00:06,  3.29it/s]"
     ]
    },
    {
     "name": "stdout",
     "output_type": "stream",
     "text": [
      "No character is detected in test_ReCTS_task2_006999\n"
     ]
    },
    {
     "name": "stderr",
     "output_type": "stream",
     "text": [
      " 66%|██████████████████████████████████████████████████████                            | 31/47 [00:09<00:04,  3.40it/s]"
     ]
    },
    {
     "name": "stdout",
     "output_type": "stream",
     "text": [
      "No character is detected in test_ReCTS_task2_007353\n"
     ]
    },
    {
     "name": "stderr",
     "output_type": "stream",
     "text": [
      "\r",
      " 68%|███████████████████████████████████████████████████████▊                          | 32/47 [00:09<00:04,  3.03it/s]"
     ]
    },
    {
     "name": "stdout",
     "output_type": "stream",
     "text": [
      "No character is detected in test_ReCTS_task2_007544\n"
     ]
    },
    {
     "name": "stderr",
     "output_type": "stream",
     "text": [
      "\r",
      " 70%|█████████████████████████████████████████████████████████▌                        | 33/47 [00:10<00:04,  2.81it/s]"
     ]
    },
    {
     "name": "stdout",
     "output_type": "stream",
     "text": [
      "No character is detected in test_ReCTS_task2_007555\n"
     ]
    },
    {
     "name": "stderr",
     "output_type": "stream",
     "text": [
      "\r",
      " 72%|███████████████████████████████████████████████████████████▎                      | 34/47 [00:10<00:04,  2.65it/s]"
     ]
    },
    {
     "name": "stdout",
     "output_type": "stream",
     "text": [
      "No character is detected in test_ReCTS_task2_008087\n"
     ]
    },
    {
     "name": "stderr",
     "output_type": "stream",
     "text": [
      "\r",
      " 74%|█████████████████████████████████████████████████████████████                     | 35/47 [00:11<00:04,  2.58it/s]"
     ]
    },
    {
     "name": "stdout",
     "output_type": "stream",
     "text": [
      "No character is detected in test_ReCTS_task2_008338\n"
     ]
    },
    {
     "name": "stderr",
     "output_type": "stream",
     "text": [
      "\r",
      " 77%|██████████████████████████████████████████████████████████████▊                   | 36/47 [00:11<00:04,  2.54it/s]"
     ]
    },
    {
     "name": "stdout",
     "output_type": "stream",
     "text": [
      "No character is detected in test_ReCTS_task2_008403\n"
     ]
    },
    {
     "name": "stderr",
     "output_type": "stream",
     "text": [
      " 85%|█████████████████████████████████████████████████████████████████████▊            | 40/47 [00:12<00:01,  3.70it/s]"
     ]
    },
    {
     "name": "stdout",
     "output_type": "stream",
     "text": [
      "No character is detected in test_ReCTS_task2_009568\n"
     ]
    },
    {
     "name": "stderr",
     "output_type": "stream",
     "text": [
      " 91%|███████████████████████████████████████████████████████████████████████████       | 43/47 [00:13<00:01,  3.76it/s]"
     ]
    },
    {
     "name": "stdout",
     "output_type": "stream",
     "text": [
      "No character is detected in test_ReCTS_task2_009912\n"
     ]
    },
    {
     "name": "stderr",
     "output_type": "stream",
     "text": [
      "\r",
      " 94%|████████████████████████████████████████████████████████████████████████████▊     | 44/47 [00:13<00:00,  3.24it/s]"
     ]
    },
    {
     "name": "stdout",
     "output_type": "stream",
     "text": [
      "No character is detected in test_ReCTS_task2_010173\n"
     ]
    },
    {
     "name": "stderr",
     "output_type": "stream",
     "text": [
      "100%|██████████████████████████████████████████████████████████████████████████████████| 47/47 [00:14<00:00,  3.77it/s]\n"
     ]
    }
   ],
   "source": [
    "for fn in tqdm(fns_no_char_detected):\n",
    "    raw_fn = Path(fn).stem\n",
    "    root_path = \"D:/RRC2019_ReCTS/submissions/Task2/intermediate_data2_missed_images\"\n",
    "    \n",
    "    # ====================\n",
    "    #Step 1: resize (to 352)\n",
    "    # ====================\n",
    "    image = get_task2_masked_im(raw_fn)    \n",
    "    long_side = np.max(image.shape[:2]) # =====\n",
    "    resize_ratio = 352 / long_side # =====\n",
    "    image = cv2.resize(image, (0,0), fx=resize_ratio, fy=resize_ratio) # =====  \n",
    "    orig_image = image.copy()\n",
    "    orig_h, orig_w, _ = orig_image.shape\n",
    "    assert not image is None        \n",
    "    direction = get_direction(image)\n",
    "    image, ph, pw = pad_image(image)\n",
    "    \n",
    "    boxes = get_yolo_boxes(infer_model, [image], net_h, net_w, config['model']['anchors'], obj_thresh, nms_thresh)[0]    \n",
    "    draw_boxes(image, boxes, config['model']['labels'], obj_thresh) \n",
    "    \n",
    "    boxes = get_thresholded_boxes(boxes, obj_thresh)\n",
    "    boxes = remove_small_boxes(boxes, orig_h/8*orig_w/8)\n",
    "    if len(boxes) != 0:\n",
    "        boxes = convert_boxes_to_ndarray_coords(boxes)\n",
    "        boxes = get_ordered_boxes(boxes, direction)\n",
    "        crop_and_save_characters(boxes, orig_image, ph, pw, raw_fn, orig_h, orig_w, root_path)\n",
    "        continue\n",
    "    \n",
    "    # ====================\n",
    "    #Step 2: perspective transform\n",
    "    # ====================\n",
    "    image = get_task2_masked_im(raw_fn, True) # =====\n",
    "    orig_image = image.copy()\n",
    "    orig_h, orig_w, _ = orig_image.shape\n",
    "    assert not image is None\n",
    "    direction = get_direction(image)\n",
    "    image, ph, pw = pad_image(image)\n",
    "    \n",
    "    boxes = get_yolo_boxes(infer_model, [image], net_h, net_w, config['model']['anchors'], obj_thresh, nms_thresh)[0]    \n",
    "    draw_boxes(image, boxes, config['model']['labels'], obj_thresh) \n",
    "    \n",
    "    boxes = get_thresholded_boxes(boxes, obj_thresh)\n",
    "    boxes = remove_small_boxes(boxes, orig_h/8*orig_w/8)\n",
    "    if len(boxes) != 0:\n",
    "        boxes = convert_boxes_to_ndarray_coords(boxes)\n",
    "        boxes = get_ordered_boxes(boxes, direction)\n",
    "        crop_and_save_characters(boxes, orig_image, ph, pw, raw_fn, orig_h, orig_w, root_path)\n",
    "        continue  \n",
    "    \n",
    "    # ====================\n",
    "    #Step 3: perspective transform + resize (to 352)\n",
    "    # ====================\n",
    "    image = get_task2_masked_im(raw_fn, True) # =====\n",
    "    long_side = np.max(image.shape[:2]) # =====\n",
    "    resize_ratio = 352 / long_side # =====\n",
    "    image = cv2.resize(image, (0,0), fx=resize_ratio, fy=resize_ratio) # =====  \n",
    "    orig_image = image.copy()\n",
    "    orig_h, orig_w, _ = orig_image.shape\n",
    "    assert not image is None        \n",
    "    direction = get_direction(image)\n",
    "    image, ph, pw = pad_image(image)\n",
    "    \n",
    "    boxes = get_yolo_boxes(infer_model, [image], net_h, net_w, config['model']['anchors'], obj_thresh, nms_thresh)[0]    \n",
    "    draw_boxes(image, boxes, config['model']['labels'], obj_thresh) \n",
    "    \n",
    "    boxes = get_thresholded_boxes(boxes, obj_thresh)\n",
    "    boxes = remove_small_boxes(boxes, orig_h/8*orig_w/8)\n",
    "    if len(boxes) != 0:\n",
    "        boxes = convert_boxes_to_ndarray_coords(boxes)\n",
    "        boxes = get_ordered_boxes(boxes, direction)\n",
    "        crop_and_save_characters(boxes, orig_image, ph, pw, raw_fn, orig_h, orig_w, root_path)\n",
    "        continue  \n",
    "        \n",
    "    print(f\"No character is detected in {raw_fn}\")"
   ]
  },
  {
   "cell_type": "code",
   "execution_count": 16,
   "metadata": {},
   "outputs": [
    {
     "data": {
      "text/plain": [
       "-1"
      ]
     },
     "execution_count": 16,
     "metadata": {},
     "output_type": "execute_result"
    }
   ],
   "source": [
    "get_yolo_boxes(infer_model, [image], net_h, net_w, config['model']['anchors'], obj_thresh, nms_thresh)[0][2].score"
   ]
  },
  {
   "cell_type": "code",
   "execution_count": 17,
   "metadata": {},
   "outputs": [
    {
     "ename": "AttributeError",
     "evalue": "'numpy.ndarray' object has no attribute 'score'",
     "output_type": "error",
     "traceback": [
      "\u001b[1;31m---------------------------------------------------------------------------\u001b[0m",
      "\u001b[1;31mAttributeError\u001b[0m                            Traceback (most recent call last)",
      "\u001b[1;32m<ipython-input-17-2ac2c4548c94>\u001b[0m in \u001b[0;36m<module>\u001b[1;34m()\u001b[0m\n\u001b[1;32m----> 1\u001b[1;33m \u001b[0mget_ordered_boxes\u001b[0m\u001b[1;33m(\u001b[0m\u001b[0mconvert_boxes_to_ndarray_coords\u001b[0m\u001b[1;33m(\u001b[0m\u001b[0mget_thresholded_boxes\u001b[0m\u001b[1;33m(\u001b[0m\u001b[0mboxes\u001b[0m\u001b[1;33m,\u001b[0m \u001b[0mobj_thresh\u001b[0m\u001b[1;33m)\u001b[0m\u001b[1;33m)\u001b[0m\u001b[1;33m)\u001b[0m\u001b[1;33m\u001b[0m\u001b[0m\n\u001b[0m",
      "\u001b[1;32m<ipython-input-9-6c3836056d5b>\u001b[0m in \u001b[0;36mget_thresholded_boxes\u001b[1;34m(boxes, thres)\u001b[0m\n\u001b[0;32m     41\u001b[0m \u001b[1;33m\u001b[0m\u001b[0m\n\u001b[0;32m     42\u001b[0m \u001b[1;32mdef\u001b[0m \u001b[0mget_thresholded_boxes\u001b[0m\u001b[1;33m(\u001b[0m\u001b[0mboxes\u001b[0m\u001b[1;33m,\u001b[0m \u001b[0mthres\u001b[0m\u001b[1;33m=\u001b[0m\u001b[0mobj_thresh\u001b[0m\u001b[1;33m)\u001b[0m\u001b[1;33m:\u001b[0m\u001b[1;33m\u001b[0m\u001b[0m\n\u001b[1;32m---> 43\u001b[1;33m     \u001b[1;32mreturn\u001b[0m \u001b[1;33m[\u001b[0m\u001b[0mbox\u001b[0m \u001b[1;32mfor\u001b[0m \u001b[0mbox\u001b[0m \u001b[1;32min\u001b[0m \u001b[0mboxes\u001b[0m \u001b[1;32mif\u001b[0m \u001b[0mbox\u001b[0m\u001b[1;33m.\u001b[0m\u001b[0mscore\u001b[0m \u001b[1;33m>=\u001b[0m \u001b[0mobj_thresh\u001b[0m\u001b[1;33m]\u001b[0m\u001b[1;33m\u001b[0m\u001b[0m\n\u001b[0m\u001b[0;32m     44\u001b[0m \u001b[1;33m\u001b[0m\u001b[0m\n\u001b[0;32m     45\u001b[0m \u001b[1;32mdef\u001b[0m \u001b[0mremove_small_boxes\u001b[0m\u001b[1;33m(\u001b[0m\u001b[0mboxes\u001b[0m\u001b[1;33m,\u001b[0m \u001b[0mthres\u001b[0m\u001b[1;33m=\u001b[0m\u001b[1;36m10\u001b[0m\u001b[1;33m*\u001b[0m\u001b[1;36m10\u001b[0m\u001b[1;33m)\u001b[0m\u001b[1;33m:\u001b[0m\u001b[1;33m\u001b[0m\u001b[0m\n",
      "\u001b[1;32m<ipython-input-9-6c3836056d5b>\u001b[0m in \u001b[0;36m<listcomp>\u001b[1;34m(.0)\u001b[0m\n\u001b[0;32m     41\u001b[0m \u001b[1;33m\u001b[0m\u001b[0m\n\u001b[0;32m     42\u001b[0m \u001b[1;32mdef\u001b[0m \u001b[0mget_thresholded_boxes\u001b[0m\u001b[1;33m(\u001b[0m\u001b[0mboxes\u001b[0m\u001b[1;33m,\u001b[0m \u001b[0mthres\u001b[0m\u001b[1;33m=\u001b[0m\u001b[0mobj_thresh\u001b[0m\u001b[1;33m)\u001b[0m\u001b[1;33m:\u001b[0m\u001b[1;33m\u001b[0m\u001b[0m\n\u001b[1;32m---> 43\u001b[1;33m     \u001b[1;32mreturn\u001b[0m \u001b[1;33m[\u001b[0m\u001b[0mbox\u001b[0m \u001b[1;32mfor\u001b[0m \u001b[0mbox\u001b[0m \u001b[1;32min\u001b[0m \u001b[0mboxes\u001b[0m \u001b[1;32mif\u001b[0m \u001b[0mbox\u001b[0m\u001b[1;33m.\u001b[0m\u001b[0mscore\u001b[0m \u001b[1;33m>=\u001b[0m \u001b[0mobj_thresh\u001b[0m\u001b[1;33m]\u001b[0m\u001b[1;33m\u001b[0m\u001b[0m\n\u001b[0m\u001b[0;32m     44\u001b[0m \u001b[1;33m\u001b[0m\u001b[0m\n\u001b[0;32m     45\u001b[0m \u001b[1;32mdef\u001b[0m \u001b[0mremove_small_boxes\u001b[0m\u001b[1;33m(\u001b[0m\u001b[0mboxes\u001b[0m\u001b[1;33m,\u001b[0m \u001b[0mthres\u001b[0m\u001b[1;33m=\u001b[0m\u001b[1;36m10\u001b[0m\u001b[1;33m*\u001b[0m\u001b[1;36m10\u001b[0m\u001b[1;33m)\u001b[0m\u001b[1;33m:\u001b[0m\u001b[1;33m\u001b[0m\u001b[0m\n",
      "\u001b[1;31mAttributeError\u001b[0m: 'numpy.ndarray' object has no attribute 'score'"
     ]
    }
   ],
   "source": [
    "get_ordered_boxes(convert_boxes_to_ndarray_coords(get_thresholded_boxes(boxes, obj_thresh)))"
   ]
  },
  {
   "cell_type": "code",
   "execution_count": 165,
   "metadata": {},
   "outputs": [
    {
     "name": "stdout",
     "output_type": "stream",
     "text": [
      "> <ipython-input-158-af98b53e1858>(48)get_ordered_boxes()\n",
      "     46     else:\n",
      "     47         raise ValueError(f\"Received an unknown direction: {direction}.\")\n",
      "---> 48     ordered_boxes = boxes[np.argsort(boxes[:, order_axis]), :-2]\n",
      "     49     ordered_boxes = ordered_boxes.astype(np.int32)\n",
      "     50     return ordered_boxes\n",
      "\n",
      "ipdb> boxes\n",
      "array([], dtype=float64)\n",
      "ipdb> q\n"
     ]
    }
   ],
   "source": [
    "%debug"
   ]
  },
  {
   "cell_type": "code",
   "execution_count": 122,
   "metadata": {},
   "outputs": [],
   "source": [
    "raw_im = cv2.imread(\"D:/RRC2019_ReCTS/ReCTS_test_part1/ReCTS_test_part1/Task2/img/test_ReCTS_task2_003485.jpg\")"
   ]
  },
  {
   "cell_type": "code",
   "execution_count": 141,
   "metadata": {},
   "outputs": [
    {
     "name": "stdout",
     "output_type": "stream",
     "text": [
      "713 619 769 663 424 0\n"
     ]
    },
    {
     "data": {
      "text/plain": [
       "<matplotlib.image.AxesImage at 0x17ea160a550>"
      ]
     },
     "execution_count": 141,
     "metadata": {},
     "output_type": "execute_result"
    },
    {
     "data": {
      "image/png": "[encoded data removed]",
      "text/plain": [
       "<Figure size 432x288 with 1 Axes>"
      ]
     },
     "metadata": {
      "needs_background": "light"
     },
     "output_type": "display_data"
    }
   ],
   "source": [
    "plt.imshow(crop_character(boxes[37], raw_im, ph, pw))"
   ]
  },
  {
   "cell_type": "code",
   "execution_count": 23,
   "metadata": {},
   "outputs": [
    {
     "name": "stdout",
     "output_type": "stream",
     "text": [
      "329 360 336 368 56 0\n",
      "334 360 342 368 64 1\n",
      "343 360 350 368 56 2\n",
      "351 360 357 368 48 3\n",
      "360 360 366 368 48 4\n",
      "368 361 375 368 49 5\n",
      "376 361 383 368 49 6\n",
      "384 361 390 368 42 7\n",
      "391 360 399 369 72 8\n",
      "330 368 335 374 30 10\n",
      "335 368 342 374 42 11\n",
      "343 367 350 374 49 12\n",
      "352 367 359 374 49 13\n",
      "360 366 367 374 56 14\n",
      "368 366 376 374 64 15\n",
      "377 367 384 374 49 16\n",
      "384 367 391 374 49 17\n",
      "391 367 399 374 56 18\n",
      "398 365 405 374 63 19\n"
     ]
    }
   ],
   "source": [
    "for i, box in enumerate(boxes):\n",
    "    if box.score >= obj_thresh:\n",
    "        print(box.xmin, box.ymin, box.xmax, box.ymax, (box.xmax-box.xmin)*(box.ymax-box.ymin), i)"
   ]
  },
  {
   "cell_type": "code",
   "execution_count": 149,
   "metadata": {},
   "outputs": [
    {
     "data": {
      "text/plain": [
       "array([[ 251. ,  430. ,  633. ,  667. ,  442. ,  548.5],\n",
       "       [  34. ,  464. ,  287. ,  619. ,  160.5,  541.5],\n",
       "       [ 602. ,  490. ,  814. ,  642. ,  708. ,  566. ],\n",
       "       [ 819. ,  445. , 1091. ,  687. ,  955. ,  566. ],\n",
       "       [ 617. ,  568. ,  671. ,  607. ,  644. ,  587.5],\n",
       "       [ 668. ,  570. ,  692. ,  606. ,  680. ,  588. ],\n",
       "       [ 701. ,  581. ,  733. ,  609. ,  717. ,  595. ],\n",
       "       [ 617. ,  616. ,  665. ,  659. ,  641. ,  637.5],\n",
       "       [ 668. ,  619. ,  713. ,  661. ,  690.5,  640. ],\n",
       "       [ 713. ,  619. ,  769. ,  663. ,  741. ,  641. ]])"
      ]
     },
     "execution_count": 149,
     "metadata": {},
     "output_type": "execute_result"
    }
   ],
   "source": [
    "thres_boxes = np.array([np.array([box.xmin,box.ymin,box.xmax,box.ymax, (box.xmin+box.xmax)/2, (box.ymin+box.ymax)/2]) for box in boxes if box.score >= obj_thresh])\n",
    "thres_boxes"
   ]
  },
  {
   "cell_type": "code",
   "execution_count": 152,
   "metadata": {},
   "outputs": [
    {
     "data": {
      "text/plain": [
       "array([[  34.,  464.,  287.,  619.],\n",
       "       [ 251.,  430.,  633.,  667.],\n",
       "       [ 617.,  616.,  665.,  659.],\n",
       "       [ 617.,  568.,  671.,  607.],\n",
       "       [ 668.,  570.,  692.,  606.],\n",
       "       [ 668.,  619.,  713.,  661.],\n",
       "       [ 602.,  490.,  814.,  642.],\n",
       "       [ 701.,  581.,  733.,  609.],\n",
       "       [ 713.,  619.,  769.,  663.],\n",
       "       [ 819.,  445., 1091.,  687.]])"
      ]
     },
     "execution_count": 152,
     "metadata": {},
     "output_type": "execute_result"
    }
   ],
   "source": [
    "thres_boxes[np.argsort(thres_boxes[:, -2]), :-2]"
   ]
  },
  {
   "cell_type": "code",
   "execution_count": 137,
   "metadata": {},
   "outputs": [
    {
     "data": {
      "text/plain": [
       "<matplotlib.image.AxesImage at 0x17eabf286a0>"
      ]
     },
     "execution_count": 137,
     "metadata": {},
     "output_type": "execute_result"
    },
    {
     "data": {
      "image/png": "[encoded data removed]",
      "text/plain": [
       "<Figure size 432x288 with 1 Axes>"
      ]
     },
     "metadata": {
      "needs_background": "light"
     },
     "output_type": "display_data"
    }
   ],
   "source": [
    "plt.imshow(image[430:667,251:633,:])"
   ]
  },
  {
   "cell_type": "code",
   "execution_count": 37,
   "metadata": {},
   "outputs": [],
   "source": [
    "xx = open(\"D:/RRC2019_ReCTS/ReCTS_test_part1/ReCTS_test_part1/Task2/coordinates/test_ReCTS_task2_003485.txt\")"
   ]
  },
  {
   "cell_type": "code",
   "execution_count": 38,
   "metadata": {},
   "outputs": [],
   "source": [
    "lines = xx.readlines()"
   ]
  },
  {
   "cell_type": "code",
   "execution_count": 39,
   "metadata": {},
   "outputs": [],
   "source": [
    "assert len(lines) == 1, lines"
   ]
  },
  {
   "cell_type": "code",
   "execution_count": 40,
   "metadata": {},
   "outputs": [],
   "source": [
    "x0,y0,x1,y1,x2,y2,x3,y3 = lines[0].split(\",\")"
   ]
  },
  {
   "cell_type": "code",
   "execution_count": 119,
   "metadata": {},
   "outputs": [],
   "source": [
    "im_ = cv2.imread(\"D:/RRC2019_ReCTS/ReCTS_test_part1/ReCTS_test_part1/Task2/img/test_ReCTS_task2_003485.jpg\")"
   ]
  },
  {
   "cell_type": "code",
   "execution_count": 47,
   "metadata": {},
   "outputs": [
    {
     "data": {
      "text/plain": [
       "<matplotlib.image.AxesImage at 0x17ea0240e10>"
      ]
     },
     "execution_count": 47,
     "metadata": {},
     "output_type": "execute_result"
    },
    {
     "data": {
      "image/png": "[encoded data removed]",
      "text/plain": [
       "<Figure size 432x288 with 1 Axes>"
      ]
     },
     "metadata": {
      "needs_background": "light"
     },
     "output_type": "display_data"
    }
   ],
   "source": [
    "masked_im = np.zeros_like(im_)\n",
    "\n",
    "plt.imshow(cv2.fillPoly(im_, [np.array([[x0,y0],[x1,y1],[x2,y2],[x3,y3]]).astype(np.int32).reshape(4,-1,2)], (255,0,0)))"
   ]
  },
  {
   "cell_type": "code",
   "execution_count": 32,
   "metadata": {},
   "outputs": [
    {
     "data": {
      "text/plain": [
       "(4, 2)"
      ]
     },
     "execution_count": 32,
     "metadata": {},
     "output_type": "execute_result"
    }
   ],
   "source": [
    "np.array([[x0,y0],[x1,y1],[x2,y2],[x3,y3]]).astype(np.int32).shape"
   ]
  },
  {
   "cell_type": "code",
   "execution_count": 64,
   "metadata": {},
   "outputs": [
    {
     "data": {
      "text/plain": [
       "<matplotlib.image.AxesImage at 0x17ea0f8b128>"
      ]
     },
     "execution_count": 64,
     "metadata": {},
     "output_type": "execute_result"
    },
    {
     "data": {
      "image/png": "[encoded data removed]",
      "text/plain": [
       "<Figure size 432x288 with 1 Axes>"
      ]
     },
     "metadata": {
      "needs_background": "light"
     },
     "output_type": "display_data"
    }
   ],
   "source": [
    "plt.imshow(get_task2_masked_im(\"test_ReCTS_task2_003485\"))"
   ]
  },
  {
   "cell_type": "code",
   "execution_count": null,
   "metadata": {},
   "outputs": [],
   "source": []
  },
  {
   "cell_type": "code",
   "execution_count": null,
   "metadata": {},
   "outputs": [],
   "source": []
  },
  {
   "cell_type": "code",
   "execution_count": null,
   "metadata": {},
   "outputs": [],
   "source": []
  },
  {
   "cell_type": "code",
   "execution_count": null,
   "metadata": {},
   "outputs": [],
   "source": []
  },
  {
   "cell_type": "code",
   "execution_count": 7,
   "metadata": {},
   "outputs": [],
   "source": [
    "xx = cv2.imread(\"D:/RRC2019_ReCTS/ReCTS_test_part1/ReCTS_test_part1/Task2/img/test_ReCTS_task2_008273.jpg\")[..., ::-1]"
   ]
  },
  {
   "cell_type": "code",
   "execution_count": 8,
   "metadata": {},
   "outputs": [
    {
     "data": {
      "text/plain": [
       "<matplotlib.image.AxesImage at 0x2064dac6f98>"
      ]
     },
     "execution_count": 8,
     "metadata": {},
     "output_type": "execute_result"
    },
    {
     "data": {
      "image/png": "[encoded data removed]",
      "text/plain": [
       "<Figure size 432x288 with 1 Axes>"
      ]
     },
     "metadata": {
      "needs_background": "light"
     },
     "output_type": "display_data"
    }
   ],
   "source": [
    "plt.imshow(xx)"
   ]
  },
  {
   "cell_type": "code",
   "execution_count": 36,
   "metadata": {},
   "outputs": [
    {
     "data": {
      "text/plain": [
       "<matplotlib.image.AxesImage at 0x2064ddd02b0>"
      ]
     },
     "execution_count": 36,
     "metadata": {},
     "output_type": "execute_result"
    },
    {
     "data": {
      "image/png": "[encoded data removed]",
      "text/plain": [
       "<Figure size 432x288 with 1 Axes>"
      ]
     },
     "metadata": {
      "needs_background": "light"
     },
     "output_type": "display_data"
    }
   ],
   "source": [
    "plt.imshow(pad_image(xx))"
   ]
  },
  {
   "cell_type": "code",
   "execution_count": null,
   "metadata": {},
   "outputs": [],
   "source": []
  },
  {
   "cell_type": "code",
   "execution_count": null,
   "metadata": {},
   "outputs": [],
   "source": []
  },
  {
   "cell_type": "code",
   "execution_count": null,
   "metadata": {},
   "outputs": [],
   "source": []
  },
  {
   "cell_type": "code",
   "execution_count": null,
   "metadata": {},
   "outputs": [],
   "source": []
  },
  {
   "cell_type": "code",
   "execution_count": null,
   "metadata": {},
   "outputs": [],
   "source": []
  },
  {
   "cell_type": "code",
   "execution_count": null,
   "metadata": {},
   "outputs": [],
   "source": []
  },
  {
   "cell_type": "code",
   "execution_count": null,
   "metadata": {},
   "outputs": [],
   "source": []
  }
 ],
 "metadata": {
  "kernelspec": {
   "display_name": "Python 3",
   "language": "python",
   "name": "python3"
  },
  "language_info": {
   "codemirror_mode": {
    "name": "ipython",
    "version": 3
   },
   "file_extension": ".py",
   "mimetype": "text/x-python",
   "name": "python",
   "nbconvert_exporter": "python",
   "pygments_lexer": "ipython3",
   "version": "3.6.6"
  }
 },
 "nbformat": 4,
 "nbformat_minor": 2
}
