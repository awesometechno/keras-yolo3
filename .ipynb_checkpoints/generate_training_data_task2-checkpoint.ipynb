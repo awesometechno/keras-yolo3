{
 "cells": [
  {
   "cell_type": "code",
   "execution_count": null,
   "metadata": {},
   "outputs": [],
   "source": [
    "from glob import glob\n",
    "import cv2\n",
    "import json\n",
    "import numpy as np\n",
    "from tqdm import tqdm\n",
    "from pathlib import Path\n",
    "\n",
    "from matplotlib import pyplot as plt"
   ]
  },
  {
   "cell_type": "code",
   "execution_count": null,
   "metadata": {},
   "outputs": [],
   "source": [
    "path_json = \"D:/RRC2019_ReCTS/gt_unicode/\"\n",
    "path_img = \"D:/RRC2019_ReCTS/img/\""
   ]
  },
  {
   "cell_type": "code",
   "execution_count": null,
   "metadata": {},
   "outputs": [],
   "source": [
    "fns = glob(path_img + \"*.jpg\"); len(fns)"
   ]
  },
  {
   "cell_type": "markdown",
   "metadata": {},
   "source": [
    "# Create YOLOv3 training data\n",
    "\n",
    "Use image having aspect ratio between [1.5, 3]"
   ]
  },
  {
   "cell_type": "code",
   "execution_count": null,
   "metadata": {},
   "outputs": [],
   "source": [
    "np.random.seed(430)\n",
    "rand_fns = list(fns)\n",
    "np.random.shuffle(rand_fns)\n",
    "rand_fns[:10]"
   ]
  },
  {
   "cell_type": "code",
   "execution_count": null,
   "metadata": {},
   "outputs": [],
   "source": [
    "with open(\"yolo_trn_anno.txt\", \"w\") as text_file:\n",
    "    for fn in tqdm(rand_fns[:-len(rand_fns)//10]):\n",
    "        raw_fn = Path(fn).stem\n",
    "        json_data = json.load(open(f\"{path_json}/{raw_fn}.json\", encoding=\"utf-8_sig\"))\n",
    "        img = cv2.imread(fn)[..., ::-1].astype(np.uint8)\n",
    "        h, w, _ = img.shape\n",
    "\n",
    "        if (w / h < 1.5) or (w / h > 3):\n",
    "            continue\n",
    "\n",
    "        rw, rh = 736 / w, 352 / h\n",
    "        path = f\"trn_data_yolov3/{raw_fn}.jpg\"\n",
    "        annotation = path\n",
    "        resized_img = cv2.resize(img.copy(), (0,0), fx=rw, fy=rh)\n",
    "        for c in json_data['chars']:\n",
    "            y0, x0, y1, x1, y2, x2, y3, x3 = c['points']\n",
    "            top, left = np.minimum(x0, x1), np.minimum(y0, y3)\n",
    "            button, right = np.maximum(x2, x3), np.maximum(y1, y2)\n",
    "            top = np.maximum(top, 0)\n",
    "            left = np.maximum(left, 0)\n",
    "            button = np.minimum(button, h)\n",
    "            right = np.minimum(right, w)\n",
    "            top = int(rh * top)\n",
    "            left = int(rw * left)\n",
    "            button = int(rh * button)\n",
    "            right = int(rw * right)\n",
    "\n",
    "            \n",
    "            annotation += f\"{left},{top},{right},{button},0\"\n",
    "            cv2.imwrite(f\"trn_data_yolov3/{raw_fn}.jpg\", resized_img[..., ::-1])\n",
    "        text_file.write(annotation + \"\\n\")"
   ]
  },
  {
   "cell_type": "code",
   "execution_count": null,
   "metadata": {},
   "outputs": [],
   "source": [
    "with open(\"yolo_val_anno.txt\", \"w\") as text_file:\n",
    "    for fn in tqdm(rand_fns[-len(rand_fns)//10:]):\n",
    "        raw_fn = Path(fn).stem\n",
    "        json_data = json.load(open(f\"{path_json}/{raw_fn}.json\", encoding=\"utf-8_sig\"))\n",
    "        img = cv2.imread(fn)[..., ::-1].astype(np.uint8)\n",
    "        h, w, _ = img.shape\n",
    "\n",
    "        if (w / h < 1.5) or (w / h > 3):\n",
    "            continue\n",
    "\n",
    "        rw, rh = 736 / w, 352 / h\n",
    "        path = f\"trn_data_yolov3/{raw_fn}.jpg\"\n",
    "        annotation = path\n",
    "        resized_img = cv2.resize(img.copy(), (0,0), fx=rw, fy=rh)\n",
    "        for c in json_data['chars']:\n",
    "            y0, x0, y1, x1, y2, x2, y3, x3 = c['points']\n",
    "            top, left = np.minimum(x0, x1), np.minimum(y0, y3)\n",
    "            button, right = np.maximum(x2, x3), np.maximum(y1, y2)\n",
    "            top = np.maximum(top, 0)\n",
    "            left = np.maximum(left, 0)\n",
    "            button = np.minimum(button, h)\n",
    "            right = np.minimum(right, w)\n",
    "            top = int(rh * top)\n",
    "            left = int(rw * left)\n",
    "            button = int(rh * button)\n",
    "            right = int(rw * right)\n",
    "            \n",
    "            annotation += f\" {left},{top},{right},{button},0\"\n",
    "            cv2.imwrite(path, resized_img[..., ::-1])\n",
    "        text_file.write(annotation + \"\\n\")"
   ]
  },
  {
   "cell_type": "code",
   "execution_count": null,
   "metadata": {},
   "outputs": [],
   "source": []
  },
  {
   "cell_type": "code",
   "execution_count": null,
   "metadata": {},
   "outputs": [],
   "source": []
  },
  {
   "cell_type": "code",
   "execution_count": null,
   "metadata": {},
   "outputs": [],
   "source": []
  },
  {
   "cell_type": "code",
   "execution_count": null,
   "metadata": {},
   "outputs": [],
   "source": []
  }
 ],
 "metadata": {
  "kernelspec": {
   "display_name": "Python 3",
   "language": "python",
   "name": "python3"
  },
  "language_info": {
   "codemirror_mode": {
    "name": "ipython",
    "version": 3
   },
   "file_extension": ".py",
   "mimetype": "text/x-python",
   "name": "python",
   "nbconvert_exporter": "python",
   "pygments_lexer": "ipython3",
   "version": "3.6.6"
  }
 },
 "nbformat": 4,
 "nbformat_minor": 2
}
